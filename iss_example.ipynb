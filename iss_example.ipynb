{
 "cells": [
  {
   "cell_type": "markdown",
   "metadata": {},
   "source": [
    "# Example In Situ Sequencing Data\n",
    "Here is a small example on how to run ISTDECO on an In Situ Sequencing dataset from [1]. (References are in the end of the notebook)."
   ]
  },
  {
   "cell_type": "markdown",
   "metadata": {},
   "source": [
    "## Set path variables\n",
    "The data and codebook can be downloaded from [2]."
   ]
  },
  {
   "cell_type": "code",
   "execution_count": 1,
   "metadata": {
    "ExecuteTime": {
     "end_time": "2021-02-25T14:31:54.569656Z",
     "start_time": "2021-02-25T14:31:54.554445Z"
    }
   },
   "outputs": [],
   "source": [
    "# Where to load the images and codebook from\n",
    "data_path = '../../Data/ISTDECO_ISS_DATA' \n",
    "\n",
    "# Where to save .csv with results\n",
    "csv_save_path = '../../Results/ISS/results.csv'"
   ]
  },
  {
   "cell_type": "markdown",
   "metadata": {},
   "source": [
    "## Load the data"
   ]
  },
  {
   "cell_type": "code",
   "execution_count": 2,
   "metadata": {
    "ExecuteTime": {
     "end_time": "2021-02-25T14:31:59.704592Z",
     "start_time": "2021-02-25T14:31:54.571602Z"
    }
   },
   "outputs": [],
   "source": [
    "import numpy as np\n",
    "from PIL import Image\n",
    "from scipy.io import loadmat\n",
    "\n",
    "rounds = 5\n",
    "channels = 4 # A, C, G, T\n",
    "tile_height, tile_width = 512, 512\n",
    "ntile_y, ntile_x = 10, 18\n",
    "\n",
    "data_shape = (rounds, channels, ntile_y*tile_height, ntile_x*tile_width)\n",
    "image_data = np.zeros(data_shape, dtype='float32')\n",
    "\n",
    "channels = ['A', 'C', 'G', 'T']\n",
    "# Load images and tile\n",
    "for r in range(rounds):\n",
    "    for c in range(len(channels)):\n",
    "        filepath = f'{data_path}/Round{r+1}/{channels[c]}.tif'\n",
    "        im = np.array(Image.open(filepath), dtype='float32')\n",
    "        image_data[r,c] = im   \n",
    "\n",
    "# Load gene names and codebook\n",
    "temp = loadmat(f'{data_path}/codebook.mat')\n",
    "codebook = temp['codebook']\n",
    "target_names = np.array([temp['target_names'][i][0][0] for i in range(len(temp['target_names']))])\n",
    "codebook = codebook / codebook.sum(axis=(1,2), keepdims=True)"
   ]
  },
  {
   "cell_type": "markdown",
   "metadata": {},
   "source": [
    "We need to set appropriate variables before we can run ISTDECO.\n",
    "\n",
    "#### Notation\n",
    "- $r$ Number of imaging rounds\n",
    "- $c$ Number of channels\n",
    "- $m$ Number of codes in codebook\n",
    "- $h$ Image height\n",
    "- $w$ Image width\n",
    "- $\\sigma_{psf}$ Standard deviation of the Gaussians describing the spatial shape of the spots\n",
    "- $Y \\in \\mathbb{R}_+^{r\\times c \\times h \\times w}$ Image data\n",
    "- $D \\in \\mathbb{R}_+^{m \\times r\\times c}$ Codebook (Combinatorial labels)\n",
    "- $b \\in \\mathbb{R}_+^{m \\times r\\times c}$ Background"
   ]
  },
  {
   "cell_type": "code",
   "execution_count": 3,
   "metadata": {
    "ExecuteTime": {
     "end_time": "2021-02-25T14:31:59.709120Z",
     "start_time": "2021-02-25T14:31:59.705929Z"
    }
   },
   "outputs": [],
   "source": [
    "r = 5\n",
    "c = 4\n",
    "m = codebook.shape[0]\n",
    "h = 512\n",
    "w = 512\n",
    "sigma_psf = 1.\n",
    "D = codebook\n",
    "Y = image_data\n",
    "\n",
    "# The images are already pre-processed\n",
    "# with a baseline removal, hence we \n",
    "# put the baseline to an small-nonzero\n",
    "# number. Mainly to avoid divisions by\n",
    "# zero in the algorithm.\n",
    "b = 1e-5\n",
    "\n",
    "# Standard deviation of the point-spread-function\n",
    "psf_std = 1.\n",
    "\n",
    "# Number of iterations\n",
    "niter = 75\n",
    "\n",
    "# Suppression radius\n",
    "local_max_radius = 1\n",
    "\n",
    "# We want to use GPU\n",
    "device = 'cuda'\n",
    "\n",
    "# The images are too large to fit all on the GPU at once,\n",
    "# hence we need to tile the images.\n",
    "tiles = [(tiley,tilex) for tiley in range(ntile_y) for tilex in range(ntile_x)]"
   ]
  },
  {
   "cell_type": "markdown",
   "metadata": {},
   "source": [
    "## Decode dataset"
   ]
  },
  {
   "cell_type": "code",
   "execution_count": 4,
   "metadata": {
    "ExecuteTime": {
     "end_time": "2021-02-25T14:37:40.606766Z",
     "start_time": "2021-02-25T14:31:59.710941Z"
    }
   },
   "outputs": [
    {
     "name": "stderr",
     "output_type": "stream",
     "text": [
      "100%|██████████| 180/180 [05:23<00:00,  1.80s/it]\n"
     ]
    }
   ],
   "source": [
    "from tqdm import tqdm\n",
    "import pandas as pd\n",
    "from istdeco import ISTDeco\n",
    "\n",
    "results = pd.DataFrame()\n",
    "tau = np.percentile(image_data,99)\n",
    "\n",
    "# Loop over the tiles\n",
    "for iy, ix in tqdm(tiles):\n",
    "    \n",
    "    # Slice the image\n",
    "    sy = slice(iy*tile_height, (iy+1)*tile_height)\n",
    "    sx = slice(ix*tile_width, (ix+1)*tile_width)\n",
    "    \n",
    "    # Pick a tile\n",
    "    tile = image_data[:,:, sy, sx] \n",
    "    \n",
    "    # Create the model\n",
    "    model = ISTDeco(tile,codebook, (psf_std,psf_std), b=b).to(device)\n",
    "    \n",
    "    # Run for few iterations and pick out \n",
    "    # deconvolved images\n",
    "    X, Q, _ = model.run(niter=niter)\n",
    "    \n",
    "    # Pick out barcodes.\n",
    "    # 99th percentile might seem like a strict choice, but recall \n",
    "    # that the images are very sparse, especially X. \n",
    "    code_id, y, x = np.where(np.logical_and(X>tau,Q>0.5))\n",
    "        \n",
    "    intensity = X[code_id, y, x]\n",
    "    quality = Q[code_id, y, x]\n",
    "                                 \n",
    "    # Store in dataframe\n",
    "    df = pd.DataFrame(data={\n",
    "            'x': x.astype('float') + ix*tile_width, \n",
    "            'y': y.astype('float') + iy*tile_height,\n",
    "            'target_id': code_id + 1, # Add a one here so id match with the benchmark\n",
    "            'intensity': intensity, \n",
    "            'quality': quality,\n",
    "            'target_name': target_names[code_id]\n",
    "    })\n",
    "                                 \n",
    "    results = results.append(df)\n",
    "\n",
    "results.to_csv(csv_save_path)"
   ]
  },
  {
   "cell_type": "markdown",
   "metadata": {},
   "source": [
    "# Plot results\n",
    "In the codebook we added nine additional \"fake\", or \"non-targeted\" codes. We can use these codes to assess the quality of the decoded barcodes."
   ]
  },
  {
   "cell_type": "code",
   "execution_count": 5,
   "metadata": {
    "ExecuteTime": {
     "end_time": "2021-02-25T14:37:45.744489Z",
     "start_time": "2021-02-25T14:37:40.609102Z"
    },
    "scrolled": true
   },
   "outputs": [
    {
     "data": {
      "text/plain": [
       "<matplotlib.legend.Legend at 0x7fa96d019b38>"
      ]
     },
     "execution_count": 5,
     "metadata": {},
     "output_type": "execute_result"
    },
    {
     "data": {
      "image/png": "[encoded data removed]",
      "text/plain": [
       "<Figure size 720x360 with 2 Axes>"
      ]
     },
     "metadata": {
      "needs_background": "light"
     },
     "output_type": "display_data"
    }
   ],
   "source": [
    "import matplotlib.pyplot as plt\n",
    "# Name of nontargeted genes\n",
    "non_targeted_names = [ f'blank-{i+1}' for i in range(9)]\n",
    "\n",
    "# Load the raw decoding from the csv\n",
    "results = pd.read_csv(csv_save_path)\n",
    "\n",
    "# Split the dataframe into targeted and non targeted detections\n",
    "ntargeted = results[results['target_name'].isin(non_targeted_names)]\n",
    "targeted = results[~results['target_name'].isin(non_targeted_names)]\n",
    "\n",
    "# Sort data by intensity and quality\n",
    "ntargeted_quality = ntargeted.sort_values('quality',ascending=False)\n",
    "ntargeted_intensity = ntargeted.sort_values('intensity',ascending=False)\n",
    "targeted_quality = targeted.sort_values('quality',ascending=False)\n",
    "targeted_intensity = targeted.sort_values('intensity',ascending=False)\n",
    "\n",
    "# Plot curves\n",
    "plt.figure(figsize=(10,5))\n",
    "plt.subplot(121)\n",
    "plt.semilogy(targeted_quality['quality'].to_numpy(), \\\n",
    "             np.arange(0,targeted_quality.shape[0]), \\\n",
    "             label='Targeted')\n",
    "\n",
    "plt.semilogy(ntargeted_quality['quality'].to_numpy(), \\\n",
    "             np.arange(0,ntargeted_quality.shape[0]), \\\n",
    "             label='Non-targeted')\n",
    "plt.xlabel('Quality score')\n",
    "plt.ylabel('Number of detections')\n",
    "plt.legend()\n",
    "\n",
    "plt.subplot(122)\n",
    "plt.semilogy(targeted_intensity['intensity'].to_numpy(), \\\n",
    "             np.arange(0,targeted_quality.shape[0]), \\\n",
    "             label='Targeted')\n",
    "\n",
    "plt.semilogy(ntargeted_intensity['intensity'].to_numpy(), \\\n",
    "             np.arange(0,ntargeted_quality.shape[0]), \\\n",
    "             label='Non-targeted')\n",
    "plt.xlabel('Intensity')\n",
    "plt.ylabel('Number of detections')\n",
    "plt.legend()"
   ]
  },
  {
   "cell_type": "markdown",
   "metadata": {},
   "source": [
    "From the above images we note that a quality threshold set to 0.6 seems to filter out many of the non-targeted detections while still keeping many the targeted detections. Let's use this threshold and check correlation with benchmark computed using pipeline in [1]."
   ]
  },
  {
   "cell_type": "code",
   "execution_count": 7,
   "metadata": {
    "ExecuteTime": {
     "end_time": "2021-02-25T14:51:58.549251Z",
     "start_time": "2021-02-25T14:51:57.926805Z"
    }
   },
   "outputs": [
    {
     "data": {
      "text/plain": [
       "Text(0.5, 1.0, 'r = 0.9761286938922521')"
      ]
     },
     "execution_count": 7,
     "metadata": {},
     "output_type": "execute_result"
    },
    {
     "data": {
      "image/png": "[encoded data removed]",
      "text/plain": [
       "<Figure size 432x432 with 1 Axes>"
      ]
     },
     "metadata": {
      "needs_background": "light"
     },
     "output_type": "display_data"
    }
   ],
   "source": [
    "n_genes = 170\n",
    "def count_targets(target_ids):\n",
    "    return np.array([np.sum(target_ids == i+1) for i in range(n_genes)])\n",
    "        \n",
    "# Load benchmark genes\n",
    "benchmark = pd.read_csv('benchmark/iss_benchmark.csv')\n",
    "    \n",
    "# remove barcodes near the border of the image\n",
    "fov = [100,100,9215-200,5120-200]\n",
    "results = results[ (results['x'] >= fov[0]) & (results['x'] <= fov[2])  & (results['y'] >= fov[1]) & (results['y'] <= fov[3])]\n",
    "benchmark = benchmark[ (benchmark['x'] >= fov[0]) & (benchmark['x'] <= fov[2])  & (benchmark['y'] >= fov[1]) & (benchmark['y'] <= fov[3])]\n",
    "\n",
    "\n",
    "# Filter detections such that less than n non targeted barcodes are detected\n",
    "n = 10\n",
    "threshold = ntargeted['quality'].nlargest(n).iloc[-1]\n",
    "result_counts = count_targets(results[results['quality'] > threshold]['target_id'])\n",
    "\n",
    "# Load the benchmark data and filter so that less than n non targeted barcodes are detected\n",
    "threshold = benchmark[benchmark['is_non_targeted'] == 1]['quality'].nlargest(n).iloc[-1]\n",
    "benchmark_counts = count_targets(benchmark[benchmark['quality'] > threshold]['target_id'])\n",
    "\n",
    "\n",
    "# Plot the count of the different detected barcodes\n",
    "tmp = np.vstack((result_counts, benchmark_counts)).T\n",
    "r = np.corrcoef(tmp[:, 1], tmp[:, 0])[0, 1]\n",
    "x = np.linspace(50, 25000)\n",
    "f, ax = plt.subplots(figsize=(6, 6))\n",
    "ax.scatter(tmp[:, 1], tmp[:, 0], 50, zorder=2)\n",
    "ax.plot(x, x, '-k', zorder=1)\n",
    "\n",
    "plt.xlabel('Benchmark barcode type counts')\n",
    "plt.ylabel('ISTDECO barcode type counts')\n",
    "plt.title(f'r = {r}')"
   ]
  },
  {
   "cell_type": "markdown",
   "metadata": {},
   "source": [
    "# References\n",
    "[1] *Qian, Xiaoyan, et al. \"Probabilistic cell typing enables fine mapping of closely related cell types in situ.\" Nature methods 17.1 (2020): 101-106.*\n",
    "\n",
    "[2] Axel Andersson, Ferran Diego, Fred A. Hamprecht, & Carolina Wählby. (2021). In Situ Sequencing data used in \"ISTDECO: In Situ Transcriptomics Decoding by Deconvolution\" [Data set]. Zenodo. http://doi.org/10.5281/zenodo.4560687"
   ]
  }
 ],
 "metadata": {
  "kernelspec": {
   "display_name": "istdecotest",
   "language": "python",
   "name": "istdecotest"
  },
  "language_info": {
   "codemirror_mode": {
    "name": "ipython",
    "version": 3
   },
   "file_extension": ".py",
   "mimetype": "text/x-python",
   "name": "python",
   "nbconvert_exporter": "python",
   "pygments_lexer": "ipython3",
   "version": "3.6.13"
  }
 },
 "nbformat": 4,
 "nbformat_minor": 2
}
